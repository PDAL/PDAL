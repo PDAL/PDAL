{
 "cells": [
  {
   "cell_type": "markdown",
   "metadata": {},
   "source": [
    "# Reading data from EPT\n",
    "\n",
    "## Introduction\n",
    "\n",
    "This tutorial describes how to use [Conda], [Entwine], [PDAL], and [GDAL] to\n",
    "read data from the [USGS 3DEP AWS Public Dataset]. We will be using PDAL's\n",
    "[readers.ept] to fetch data, we will filter it for noise using [filters.outlier],\n",
    "we will classify the data as ground/not-ground using [filters.smrf], and we will\n",
    "write out a digital terrain model with {ref}`writers.gdal`. Once our elevation model\n",
    "is constructed, we will use GDAL [gdaldem] operations to create hillshade, slope,\n",
    "and color relief.\n",
    "\n",
    "## Write the Pipeline\n",
    "\n",
    "PDAL uses the concept of [pipelines] to describe the reading, filtering, and writing\n",
    "of point cloud data. We will construct a pipeline that will do a number of things\n",
    "in succession.\n",
    "\n",
    ":::{figure} images/pipeline-example-overview.png\n",
    ":scale: 75%\n",
    "\n",
    "Pipeline diagram. The data are read from the [Entwine Point Tile] resource at\n",
    "<https://usgs.entwine.io> for Iowa using {ref}`readers.ept` and filtered through a\n",
    "number of steps until processing is complete. The data are then written to\n",
    "an `iowa.laz` and `iowa.tif` file.\n",
    ":::"
   ]
  },
  {
   "cell_type": "code",
   "execution_count": null,
   "metadata": {
    "tags": [
     "remove_cell"
    ]
   },
   "outputs": [],
   "source": [
    "import os\n",
    "import sys\n",
    "\n",
    "conda_env_path = os.environ.get('CONDA_PREFIX', sys.prefix)\n",
    "proj_data = os.path.join(os.path.join(conda_env_path, 'share'), 'proj')\n",
    "os.environ[\"PROJ_DATA\"] = proj_data"
   ]
  },
  {
   "cell_type": "markdown",
   "metadata": {},
   "source": [
    "Our first step is to import the `pdal` library."
   ]
  },
  {
   "cell_type": "code",
   "execution_count": null,
   "metadata": {},
   "outputs": [],
   "source": [
    "import pdal"
   ]
  },
  {
   "cell_type": "markdown",
   "metadata": {},
   "source": [
    "Nearly all PDAL pipelines will naturally start with a reader stage to load point cloud data from a source. In this case, we will define an EPT reader where the filename is URL pointing to the `ept.json` for this particular dataset. To reduce the amount of data transfered, we will define a `bounds` to spatially subset the data while reading."
   ]
  },
  {
   "cell_type": "code",
   "execution_count": null,
   "metadata": {},
   "outputs": [],
   "source": [
    "pipeline = pdal.Reader.ept(\n",
    "    \"https://s3-us-west-2.amazonaws.com/usgs-lidar-public/IA_FullState/ept.json\",\n",
    "    bounds=\"([-10425171.940, -10423171.940], [5164494.710, 5166494.710])\"\n",
    ")"
   ]
  },
  {
   "cell_type": "markdown",
   "metadata": {},
   "source": [
    "In the following steps, we will continue to build out the pipeline by appending filter stages, starting with an expression filter that passes only those points that are **not** marked with the ASPRS classification label of 7 indicating noise."
   ]
  },
  {
   "cell_type": "code",
   "execution_count": null,
   "metadata": {},
   "outputs": [],
   "source": [
    "pipeline |= pdal.Filter.expression(expression=\"Classification != 7\")"
   ]
  },
  {
   "cell_type": "markdown",
   "metadata": {},
   "source": [
    ":::{note}\n",
    "Formerly, this step may have appeared as `pdal.Filter.range(limits=\"Classification![7:7]\")`. While this syntax is still supported, many users will find the more natural expressions supported in the expression filter easier to write and interpret.\n",
    ":::\n",
    "\n",
    "Next, the classification labels of all remaining points are reset to zero using the assignment filter."
   ]
  },
  {
   "cell_type": "code",
   "execution_count": null,
   "metadata": {},
   "outputs": [],
   "source": [
    "pipeline |= pdal.Filter.assign(assignment=\"Classification[:]=0\")"
   ]
  },
  {
   "cell_type": "markdown",
   "metadata": {},
   "source": [
    "Because the EPT data is in web mercator, we will reproject to UTM zone 15 prior to any further processing."
   ]
  },
  {
   "cell_type": "code",
   "execution_count": null,
   "metadata": {},
   "outputs": [],
   "source": [
    "pipeline |= pdal.Filter.reprojection(out_srs=\"EPSG:26915\")"
   ]
  },
  {
   "cell_type": "markdown",
   "metadata": {},
   "source": [
    "With coordinates now in rectilinear coordinates and all labels reset to zero, we apply the SMRF filter to label all points as either ground or unclassified."
   ]
  },
  {
   "cell_type": "code",
   "execution_count": null,
   "metadata": {},
   "outputs": [],
   "source": [
    "pipeline |= pdal.Filter.smrf()"
   ]
  },
  {
   "cell_type": "markdown",
   "metadata": {},
   "source": [
    "Following this segmentation step, we can apply another expression (or range) filter to only retain those points classified as ground (ASPRS label 2)."
   ]
  },
  {
   "cell_type": "code",
   "execution_count": null,
   "metadata": {},
   "outputs": [],
   "source": [
    "pipeline |= pdal.Filter.expression(expression=\"Classification == 2\")"
   ]
  },
  {
   "cell_type": "markdown",
   "metadata": {},
   "source": [
    "Following this step, we will execute the pipeline and report the number of points in the resulting point cloud."
   ]
  },
  {
   "cell_type": "code",
   "execution_count": null,
   "metadata": {},
   "outputs": [],
   "source": [
    "pipeline.execute()\n",
    "print(f\"Processed point cloud contains {len(pipeline.arrays[0])} points\")"
   ]
  }
 ],
 "metadata": {
  "kernelspec": {
   "display_name": "Python 3",
   "language": "python",
   "name": "python3"
  },
  "language_info": {
   "codemirror_mode": {
    "name": "ipython",
    "version": 3
   },
   "file_extension": ".py",
   "mimetype": "text/x-python",
   "name": "python",
   "nbconvert_exporter": "python",
   "pygments_lexer": "ipython3",
   "version": "3.8.0"
  },
  "widgets": {
   "application/vnd.jupyter.widget-state+json": {
    "state": {},
    "version_major": 2,
    "version_minor": 0
   }
  }
 },
 "nbformat": 4,
 "nbformat_minor": 4
}
