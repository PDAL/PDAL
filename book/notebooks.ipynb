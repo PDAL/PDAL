{
 "cells": [
  {
   "cell_type": "markdown",
   "metadata": {},
   "source": [
    "# Reading data from EPT\n",
    "\n",
    "## Introduction\n",
    "\n",
    "This tutorial describes how to use [Conda], [Entwine], [PDAL], and [GDAL] to\n",
    "read data from the [USGS 3DEP AWS Public Dataset]. We will be using PDAL's\n",
    "[readers.ept] to fetch data, we will filter it for noise using [filters.outlier],\n",
    "we will classify the data as ground/not-ground using [filters.smrf], and we will\n",
    "write out a digital terrain model with {ref}`writers.gdal`. Once our elevation model\n",
    "is constructed, we will use GDAL [gdaldem] operations to create hillshade, slope,\n",
    "and color relief.\n",
    "\n",
    "## Write the Pipeline\n",
    "\n",
    "PDAL uses the concept of [pipelines] to describe the reading, filtering, and writing\n",
    "of point cloud data. We will construct a pipeline that will do a number of things\n",
    "in succession.\n",
    "\n",
    "```{figure} images/pipeline-example-overview.png\n",
    ":scale: 50%\n",
    "\n",
    "Pipeline diagram. The data are read from the [Entwine Point Tile] resource at\n",
    "<https://usgs.entwine.io> for Iowa using {ref}`readers.ept` and filtered through a\n",
    "number of steps until processing is complete. The data are then written to\n",
    "an `iowa.laz` and `iowa.tif` file.\n",
    "```"
   ]
  },
  {
   "cell_type": "code",
   "execution_count": null,
   "metadata": {
    "tags": [
     "remove_cell"
    ]
   },
   "outputs": [],
   "source": [
    "import os\n",
    "import sys\n",
    "\n",
    "conda_env_path = os.environ.get('CONDA_PREFIX', sys.prefix)\n",
    "proj_data = os.path.join(os.path.join(conda_env_path, 'share'), 'proj')\n",
    "os.environ[\"PROJ_DATA\"] = proj_data"
   ]
  },
  {
   "cell_type": "markdown",
   "metadata": {},
   "source": [
    "Our first step is to import the `pdal` library."
   ]
  },
  {
   "cell_type": "code",
   "execution_count": null,
   "metadata": {},
   "outputs": [],
   "source": [
    "import pdal"
   ]
  },
  {
   "cell_type": "markdown",
   "metadata": {},
   "source": [
    "## Stages\n",
    "\n",
    "### readers.ept\n",
    "\n",
    "{ref}`readers.ept` reads the point cloud data from the EPT resource on AWS. We give\n",
    "it a URL to the root of the resource in the `filename` option, and we also\n",
    "give it a `bounds` object to define the window in which we should select data\n",
    "from.\n",
    "\n",
    "```{note}\n",
    "The full URL to the EPT root file (`ept.json`)) must be given\n",
    "to the filename parameter for PDAL 2.2+. This was a change in\n",
    "behavior of the {ref}`readers.ept` driver.\n",
    "```\n",
    "\n",
    "The `bounds` object is in the form `([minx, maxx], [miny, maxy])`.\n",
    "\n",
    "```{warning}\n",
    "If you do not define a `bounds` option, PDAL will try to read the\n",
    "data for the entire state of Iowa, which is about 160 billion points.\n",
    "Maybe you have enough memory for this...\n",
    "```\n",
    "\n",
    "```{figure} images/pipeline-example-readers.ept.png\n",
    ":scale: 50%\n",
    "\n",
    "The EPT reader reads data from an EPT resource with PDAL. Options available\n",
    "in PDAL 1.9+ allow users to select data at or above specified resolutions.\n",
    "```"
   ]
  },
  {
   "cell_type": "code",
   "execution_count": null,
   "metadata": {},
   "outputs": [],
   "source": [
    "pipeline = pdal.Reader.ept(\n",
    "    \"https://s3-us-west-2.amazonaws.com/usgs-lidar-public/IA_FullState/ept.json\",\n",
    "    bounds=\"([-10425171.940, -10423171.940], [5164494.710, 5166494.710])\"\n",
    ")"
   ]
  },
  {
   "cell_type": "markdown",
   "metadata": {},
   "source": [
    "### filters.expression\n",
    "\n",
    "The data we are selecting may have noise properly classified, and we can use\n",
    "{ref}`filters.expression` to keep all data that does not have a `Classification` {ref}`dimensions`\n",
    "value of `7`.\n",
    "\n",
    "```{figure} images/pipeline-example-filters.range1.png\n",
    ":scale: 50%\n",
    "\n",
    "The {ref}`filters.expression` filter allows users to\n",
    "select data for processing or removal.\n",
    "```"
   ]
  },
  {
   "cell_type": "code",
   "execution_count": null,
   "metadata": {},
   "outputs": [],
   "source": [
    "pipeline |= pdal.Filter.expression(expression=\"Classification != 7\")"
   ]
  },
  {
   "cell_type": "markdown",
   "metadata": {},
   "source": [
    "```{note}\n",
    "Formerly, this step may have appeared as `pdal.Filter.range(limits=\"Classification![7:7]\")`. While this syntax is still supported, many users will find the more natural expressions supported in the expression filter easier to write and interpret.\n",
    "```\n",
    "\n",
    "### filters.assign\n",
    "\n",
    "After removing points that have noise classifications, we need to reset all\n",
    "of the classification values in the point data. {ref}`filters.assign` takes the\n",
    "expression `Classification [:]=0` and assigns the `Classification` for\n",
    "each point to `0`.\n",
    "\n",
    "```{figure} images/pipeline-example-filters.assign.png\n",
    ":scale: 50%\n",
    "\n",
    "{ref}`filters.assign` can also take in an option to apply assignments\n",
    "based on a conditional. If you want to assign values based on a\n",
    "bounding geometry, use {ref}`filters.overlay`.\n",
    "```"
   ]
  },
  {
   "cell_type": "code",
   "execution_count": null,
   "metadata": {},
   "outputs": [],
   "source": [
    "pipeline |= pdal.Filter.assign(assignment=\"Classification[:]=0\")"
   ]
  },
  {
   "cell_type": "markdown",
   "metadata": {},
   "source": [
    "### filters.reprojection\n",
    "\n",
    "The data on the AWS 3DEP Public Dataset are stored in [Web Mercator]\n",
    "coordinate system, which is not suitable for many operations. We need to\n",
    "reproject them into an appropriate UTM coordinate system ([EPSG:26915](https://epsg.io/32615)).\n",
    "\n",
    "```{figure} images/pipeline-example-filters.reprojection.png\n",
    ":scale: 50%\n",
    "\n",
    "{ref}`filters.reprojection` can also take override the incoming coordinate\n",
    "system using the `a_srs` option.\n",
    "```"
   ]
  },
  {
   "cell_type": "code",
   "execution_count": null,
   "metadata": {},
   "outputs": [],
   "source": [
    "pipeline |= pdal.Filter.reprojection(out_srs=\"EPSG:26915\")"
   ]
  },
  {
   "cell_type": "markdown",
   "metadata": {},
   "source": [
    "### filters.smrf\n",
    "\n",
    "The Simple Morphological Filter ({ref}`filters.smrf`) classifies points as ground\n",
    "or not-ground.\n",
    "\n",
    "```{figure} images/pipeline-example-filters.smrf.png\n",
    ":scale: 50%\n",
    "\n",
    "{ref}`filters.smrf` provides a number of tuning options, but the\n",
    "defaults tend to work quite well for mixed urban environments on\n",
    "flat ground (ie, Iowa).\n",
    "```"
   ]
  },
  {
   "cell_type": "code",
   "execution_count": null,
   "metadata": {},
   "outputs": [],
   "source": [
    "pipeline |= pdal.Filter.smrf()"
   ]
  },
  {
   "cell_type": "markdown",
   "metadata": {},
   "source": [
    "### filters.range\n",
    "\n",
    "After we have executed the SMRF filter, we only want to keep points that\n",
    "are actually classified as ground in our point stream. Selecting for\n",
    "points with `Classification == 2` does that for us.\n",
    "\n",
    "```{figure} images/pipeline-example-filters.range2.png\n",
    ":scale: 50%\n",
    "\n",
    "Remove any point that is not ground classification for our\n",
    "DTM generation.\n",
    "```"
   ]
  },
  {
   "cell_type": "code",
   "execution_count": null,
   "metadata": {},
   "outputs": [],
   "source": [
    "pipeline |= pdal.Filter.expression(expression=\"Classification == 2\")"
   ]
  },
  {
   "cell_type": "markdown",
   "metadata": {},
   "source": [
    "### writers.gdal\n",
    "\n",
    "Having filtered our point data, we're now ready to write a raster digital\n",
    "terrain model with {ref}`writers.gdal`. Interesting options we choose here are\n",
    "to set the `nodata` value, specify only outputting the inverse distance\n",
    "weighted raster, and assigning a resolution of `1` (m). See {ref}`writers.gdal`\n",
    "for more options.\n",
    "\n",
    "```{figure} images/pipeline-example-writers.gdal.png\n",
    ":scale: 50%\n",
    "\n",
    "Output a DTM at 1m resolution.\n",
    "```"
   ]
  },
  {
   "cell_type": "markdown",
   "metadata": {},
   "source": [
    "### writers.las\n",
    "\n",
    "We can also write a LAZ file containing the same points that were used to\n",
    "make the elevation model in the section above. See {ref}`writers.las` for more options.\n",
    "\n",
    "```{figure} images/pipeline-example-writers.las.png\n",
    ":scale: 50%\n",
    "\n",
    "Also output the LAZ file as part of our processing pipeline.\n",
    "```"
   ]
  },
  {
   "cell_type": "markdown",
   "metadata": {},
   "source": [
    "Following this step, we will execute the pipeline and report the number of points in the resulting point cloud."
   ]
  },
  {
   "cell_type": "code",
   "execution_count": null,
   "metadata": {},
   "outputs": [],
   "source": [
    "pipeline.execute()\n",
    "print(f\"Processed point cloud contains {len(pipeline.arrays[0])} points\")"
   ]
  }
 ],
 "metadata": {
  "kernelspec": {
   "display_name": "Python 3",
   "language": "python",
   "name": "python3"
  },
  "language_info": {
   "codemirror_mode": {
    "name": "ipython",
    "version": 3
   },
   "file_extension": ".py",
   "mimetype": "text/x-python",
   "name": "python",
   "nbconvert_exporter": "python",
   "pygments_lexer": "ipython3",
   "version": "3.8.0"
  },
  "widgets": {
   "application/vnd.jupyter.widget-state+json": {
    "state": {},
    "version_major": 2,
    "version_minor": 0
   }
  }
 },
 "nbformat": 4,
 "nbformat_minor": 4
}
