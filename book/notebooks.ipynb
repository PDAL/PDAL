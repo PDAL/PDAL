{
 "cells": [
  {
   "cell_type": "markdown",
   "metadata": {},
   "source": [
    "# Content with notebooks\n",
    "\n",
    "You can also create content with Jupyter Notebooks. This means that you can include\n",
    "code blocks and their outputs in your book."
   ]
  },
  {
   "cell_type": "code",
   "execution_count": null,
   "metadata": {},
   "outputs": [],
   "source": [
    "import os\n",
    "import sys\n",
    "\n",
    "conda_env_path = os.environ.get('CONDA_PREFIX', sys.prefix)\n",
    "proj_data = os.path.join(os.path.join(conda_env_path, 'share'), 'proj')\n",
    "os.environ[\"PROJ_DATA\"] = proj_data"
   ],
   "tags": [
    "hide_input",
    "hide_output"
   ]
  },
  {
   "cell_type": "code",
   "execution_count": null,
   "metadata": {},
   "outputs": [],
   "source": [
    "import pdal"
   ]
  },
  {
   "cell_type": "code",
   "execution_count": null,
   "metadata": {},
   "outputs": [],
   "source": [
    "pipeline = pdal.Reader.ept(\"https://s3-us-west-2.amazonaws.com/usgs-lidar-public/IA_FullState/ept.json\",\n",
    "                    bounds=\"([-10425171.940, -10423171.940], [5164494.710, 5166494.710])\")\n",
    "pipeline |= pdal.Filter.range(limits=\"Classification![7:7]\")\n",
    "pipeline |= pdal.Filter.assign(assignment=\"Classification[:]=0\")\n",
    "pipeline |= pdal.Filter.reprojection(out_srs=\"EPSG:26915\")\n",
    "pipeline |= pdal.Filter.smrf()\n",
    "pipeline |= pdal.Filter.range(limits=\"Classification[2:2]\")\n",
    "pipeline.execute()\n",
    "print(f\"Processed point cloud contains {len(pipeline.arrays[0])} points\")"
   ]
  },
  {
   "cell_type": "code",
   "execution_count": null,
   "metadata": {},
   "outputs": [],
   "source": []
  }
 ],
 "metadata": {
  "kernelspec": {
   "display_name": "Python 3",
   "language": "python",
   "name": "python3"
  },
  "language_info": {
   "codemirror_mode": {
    "name": "ipython",
    "version": 3
   },
   "file_extension": ".py",
   "mimetype": "text/x-python",
   "name": "python",
   "nbconvert_exporter": "python",
   "pygments_lexer": "ipython3",
   "version": "3.8.0"
  },
  "widgets": {
   "application/vnd.jupyter.widget-state+json": {
    "state": {},
    "version_major": 2,
    "version_minor": 0
   }
  }
 },
 "nbformat": 4,
 "nbformat_minor": 4
}
