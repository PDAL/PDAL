{
 "cells": [
  {
   "cell_type": "markdown",
   "metadata": {},
   "source": [
    "# Reading data from EPT\n",
    "\n",
    "## Introduction\n",
    "\n",
    "This tutorial describes how to use [Conda], [Entwine], [PDAL], and [GDAL] to\n",
    "read data from the [USGS 3DEP AWS Public Dataset]. We will be using PDAL's\n",
    "[readers.ept] to fetch data, we will filter it for noise using [filters.outlier],\n",
    "we will classify the data as ground/not-ground using [filters.smrf], and we will\n",
    "write out a digital terrain model with {ref}`writers.gdal`. Once our elevation model\n",
    "is constructed, we will use GDAL [gdaldem] operations to create hillshade, slope,\n",
    "and color relief.\n",
    "\n",
    "## Write the Pipeline\n",
    "\n",
    "PDAL uses the concept of [pipelines] to describe the reading, filtering, and writing\n",
    "of point cloud data. We will construct a pipeline that will do a number of things\n",
    "in succession.\n",
    "\n",
    ":::{figure} images/pipeline-example-overview.png\n",
    ":scale: 75%\n",
    "\n",
    "Pipeline diagram. The data are read from the [Entwine Point Tile] resource at\n",
    "<https://usgs.entwine.io> for Iowa using {ref}`readers.ept` and filtered through a\n",
    "number of steps until processing is complete. The data are then written to\n",
    "an `iowa.laz` and `iowa.tif` file.\n",
    ":::"
   ]
  },
  {
   "cell_type": "code",
   "execution_count": null,
   "metadata": {
    "tags": [
     "remove_cell"
    ]
   },
   "outputs": [],
   "source": [
    "import os\n",
    "import sys\n",
    "\n",
    "conda_env_path = os.environ.get('CONDA_PREFIX', sys.prefix)\n",
    "proj_data = os.path.join(os.path.join(conda_env_path, 'share'), 'proj')\n",
    "os.environ[\"PROJ_DATA\"] = proj_data"
   ]
  },
  {
   "cell_type": "code",
   "execution_count": null,
   "metadata": {},
   "outputs": [],
   "source": [
    "import pdal"
   ]
  },
  {
   "cell_type": "code",
   "execution_count": null,
   "metadata": {},
   "outputs": [],
   "source": [
    "pipeline = pdal.Reader.ept(\"https://s3-us-west-2.amazonaws.com/usgs-lidar-public/IA_FullState/ept.json\",\n",
    "                    bounds=\"([-10425171.940, -10423171.940], [5164494.710, 5166494.710])\")\n",
    "pipeline |= pdal.Filter.range(limits=\"Classification![7:7]\")\n",
    "pipeline |= pdal.Filter.assign(assignment=\"Classification[:]=0\")\n",
    "pipeline |= pdal.Filter.reprojection(out_srs=\"EPSG:26915\")\n",
    "pipeline |= pdal.Filter.smrf()\n",
    "pipeline |= pdal.Filter.range(limits=\"Classification[2:2]\")\n",
    "pipeline.execute()\n",
    "print(f\"Processed point cloud contains {len(pipeline.arrays[0])} points\")"
   ]
  },
  {
   "cell_type": "code",
   "execution_count": null,
   "metadata": {},
   "outputs": [],
   "source": []
  }
 ],
 "metadata": {
  "kernelspec": {
   "display_name": "Python 3",
   "language": "python",
   "name": "python3"
  },
  "language_info": {
   "codemirror_mode": {
    "name": "ipython",
    "version": 3
   },
   "file_extension": ".py",
   "mimetype": "text/x-python",
   "name": "python",
   "nbconvert_exporter": "python",
   "pygments_lexer": "ipython3",
   "version": "3.8.0"
  },
  "widgets": {
   "application/vnd.jupyter.widget-state+json": {
    "state": {},
    "version_major": 2,
    "version_minor": 0
   }
  }
 },
 "nbformat": 4,
 "nbformat_minor": 4
}
